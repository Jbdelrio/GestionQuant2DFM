{
 "cells": [
  {
   "cell_type": "code",
   "execution_count": 1,
   "metadata": {},
   "outputs": [],
   "source": [
    "import pandas as pd\n",
    "from statsmodels.tsa.stattools import adfuller"
   ]
  },
  {
   "cell_type": "code",
   "execution_count": 2,
   "metadata": {},
   "outputs": [],
   "source": [
    "# Lecture du fichier *.txt\n",
    "data = pd.read_csv('data.txt', sep=',').set_index(keys='Date')"
   ]
  },
  {
   "cell_type": "code",
   "execution_count": 3,
   "metadata": {},
   "outputs": [
    {
     "data": {
      "text/html": [
       "<div>\n",
       "<style scoped>\n",
       "    .dataframe tbody tr th:only-of-type {\n",
       "        vertical-align: middle;\n",
       "    }\n",
       "\n",
       "    .dataframe tbody tr th {\n",
       "        vertical-align: top;\n",
       "    }\n",
       "\n",
       "    .dataframe thead th {\n",
       "        text-align: right;\n",
       "    }\n",
       "</style>\n",
       "<table border=\"1\" class=\"dataframe\">\n",
       "  <thead>\n",
       "    <tr style=\"text-align: right;\">\n",
       "      <th></th>\n",
       "      <th>CPI</th>\n",
       "      <th>INDPRO</th>\n",
       "      <th>RPI</th>\n",
       "      <th>UNRATE</th>\n",
       "    </tr>\n",
       "  </thead>\n",
       "  <tbody>\n",
       "    <tr>\n",
       "      <th>p-value (%)</th>\n",
       "      <td>51.8</td>\n",
       "      <td>28.6</td>\n",
       "      <td>99.7</td>\n",
       "      <td>1.2</td>\n",
       "    </tr>\n",
       "    <tr>\n",
       "      <th>I0</th>\n",
       "      <td>False</td>\n",
       "      <td>False</td>\n",
       "      <td>False</td>\n",
       "      <td>True</td>\n",
       "    </tr>\n",
       "  </tbody>\n",
       "</table>\n",
       "</div>"
      ],
      "text/plain": [
       "               CPI INDPRO    RPI UNRATE\n",
       "p-value (%)   51.8   28.6   99.7    1.2\n",
       "I0           False  False  False   True"
      ]
     },
     "execution_count": 3,
     "metadata": {},
     "output_type": "execute_result"
    }
   ],
   "source": [
    "# Niveau de confiance alpha de 5%\n",
    "alpha = .05\n",
    "# Application du test Augmented Dickey-Fuller aux variables du dataset\n",
    "adf_results = {}\n",
    "for col in data.columns:\n",
    "    # Récupération de la p-valeur du test\n",
    "    pval = adfuller(data[col])[1]\n",
    "    # Indicatrice de stationnarité\n",
    "    hadf = pval < alpha\n",
    "    # Collecte des résultats\n",
    "    adf_results[col] = [round(pval, 3) * 100, hadf]\n",
    "# Affichage des résultats\n",
    "pd.DataFrame(adf_results, index=['p-value (%)', 'I0'])"
   ]
  },
  {
   "cell_type": "code",
   "execution_count": 4,
   "metadata": {},
   "outputs": [],
   "source": [
    "# Sélection des variables non stationnaires\n",
    "ns_data = data.loc[:, data.columns != 'UNRATE']\n",
    "# Calcul des séries en différence première\n",
    "diff_data = ns_data.diff(periods=1)\n",
    "# Aggrégation des variables stationnaires \n",
    "mapping = pd.concat([diff_data, data['UNRATE']], axis=1).dropna()\n",
    "# Centrage et standardisation des données\n",
    "std_data = (mapping - mapping.mean(axis=0)) / mapping.std(axis=0)"
   ]
  },
  {
   "cell_type": "code",
   "execution_count": 5,
   "metadata": {},
   "outputs": [],
   "source": [
    "# Séléction de la période d'estimation\n",
    "estimation_sample = std_data.loc[(std_data.index >= '1983-01-01') & (std_data.index <= '2016-12-01')]\n",
    "# Sélection de la période de prévision\n",
    "forecast_sample = std_data.loc[std_data.index >= '2017-01-01']"
   ]
  }
 ],
 "metadata": {
  "kernelspec": {
   "display_name": "Python 3",
   "language": "python",
   "name": "python3"
  },
  "language_info": {
   "codemirror_mode": {
    "name": "ipython",
    "version": 3
   },
   "file_extension": ".py",
   "mimetype": "text/x-python",
   "name": "python",
   "nbconvert_exporter": "python",
   "pygments_lexer": "ipython3",
   "version": "3.11.5"
  }
 },
 "nbformat": 4,
 "nbformat_minor": 2
}
