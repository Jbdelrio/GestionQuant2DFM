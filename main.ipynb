{
 "cells": [
  {
   "cell_type": "code",
   "execution_count": 1,
   "metadata": {},
   "outputs": [],
   "source": [
    "import pandas as pd\n",
    "import numpy as np"
   ]
  },
  {
   "cell_type": "code",
   "execution_count": 2,
   "metadata": {},
   "outputs": [],
   "source": [
    "# Lecture du fichier *.txt\n",
    "data = pd.read_csv('fredmq.txt', sep=',').set_index(keys='Date')\n",
    "# Récupération des types de transformations dans un dictionnaire\n",
    "transformations = dict(data.loc['Transform']) \n",
    "# Abandon de la ligne des transformations\n",
    "data.drop(labels='Transform', inplace=True)\n",
    "# Ajustement de l'indice du DataFrame au format datetime\n",
    "data.index = pd.to_datetime(arg=data.index)\n",
    "# Abandon des colonnes ayant un nombre de NaN's >= 30\n",
    "data.dropna(thresh=len(data) - 30, axis=1, inplace=True)\n",
    "# Abandon des NaN's restants\n",
    "data.dropna(axis=0, inplace=True)"
   ]
  },
  {
   "cell_type": "code",
   "execution_count": 3,
   "metadata": {},
   "outputs": [],
   "source": [
    "# Création du DataFrame stockant les séries transformées\n",
    "transformed_data = pd.DataFrame()\n",
    "# Transformation des séries selon les codes fournis par McCracken et Ng\n",
    "for col in data.columns:\n",
    "    # Récupération du code de transformation\n",
    "    code = transformations[col]\n",
    "    # Récupération de la série individuelle\n",
    "    subset = data[col]\n",
    "    # Application des transformées selon le code correspondant\n",
    "    if code == 1:\n",
    "        # Aucune transformation à appliquer\n",
    "        temp = subset\n",
    "    elif code == 2:\n",
    "        # Différence première\n",
    "        temp = subset.diff(periods=1)\n",
    "    elif code == 3:\n",
    "        # Différence seconde \n",
    "        temp = subset.diff(periods=1).diff(periods=1)\n",
    "    elif code == 4:\n",
    "        # Transformée en log\n",
    "        temp = np.log(subset)\n",
    "    elif code == 5:\n",
    "        # Différence première du log\n",
    "        temp = np.log(subset).diff(periods=1)\n",
    "    elif code == 6:\n",
    "        # Différence seconde du log \n",
    "        temp = np.log(subset).diff(periods=1).diff(periods=1)\n",
    "    elif code == 7:\n",
    "        # Différence première de la variation relative\n",
    "        temp = subset.pct_change().diff(periods=1)\n",
    "    # Aggrégation des séries transformées\n",
    "    transformed_data = pd.concat([transformed_data, temp], axis=1)\n",
    "# Abandon des NaN's causées par les différences premières et secondes\n",
    "transformed_data.dropna(axis=0, inplace=True)"
   ]
  },
  {
   "cell_type": "code",
   "execution_count": 4,
   "metadata": {},
   "outputs": [],
   "source": [
    "# Calcul de la médiane des séries\n",
    "medians = transformed_data.median(axis=0)\n",
    "# DataFrame contenant les médianes des séries en chaque point\n",
    "mdf =  transformed_data * 0 + medians\n",
    "# Calcul de la distance entre les observations et les médianes\n",
    "z = abs(transformed_data - mdf)\n",
    "# Calcul de la gamme interquartile des séries\n",
    "irq = transformed_data.quantile(q=.75) - transformed_data.quantile(q=.25)\n",
    "# DataFrame contenant les gammes interquartiles des séries en chaque point\n",
    "irqdf = transformed_data * 0 + irq\n",
    "# Détermination des outliers (x est un outlier si abs(x - mediane) > 10 * gamme interquartile)\n",
    "outliers = z > 10 * irqdf\n",
    "# Abandon des observations considérées comme outliers\n",
    "mapping = transformed_data[outliers == False].dropna(axis=0)"
   ]
  },
  {
   "cell_type": "code",
   "execution_count": 6,
   "metadata": {},
   "outputs": [],
   "source": [
    "# Sélection de la période d'estimation\n",
    "estimation_sample = mapping.loc[(mapping.index >= pd.to_datetime('1983-01-01')) \n",
    "                                & (mapping.index <= pd.to_datetime('2016-12-01'))]\n",
    "# Sélection de la période de prévision\n",
    "forecast_sample = mapping.loc[mapping.index >= pd.to_datetime('2017-01-01')]\n",
    "# Standardisation des données d'estimation\n",
    "estimation_sample_std = (estimation_sample - estimation_sample.mean(axis=0)) / estimation_sample.std(axis=0)"
   ]
  }
 ],
 "metadata": {
  "kernelspec": {
   "display_name": "Python 3",
   "language": "python",
   "name": "python3"
  },
  "language_info": {
   "codemirror_mode": {
    "name": "ipython",
    "version": 3
   },
   "file_extension": ".py",
   "mimetype": "text/x-python",
   "name": "python",
   "nbconvert_exporter": "python",
   "pygments_lexer": "ipython3",
   "version": "3.11.5"
  }
 },
 "nbformat": 4,
 "nbformat_minor": 2
}
