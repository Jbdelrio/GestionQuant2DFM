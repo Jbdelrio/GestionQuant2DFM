{
 "cells": [
  {
   "cell_type": "code",
   "execution_count": 23,
   "metadata": {},
   "outputs": [],
   "source": [
    "import pandas as pd"
   ]
  },
  {
   "cell_type": "code",
   "execution_count": 24,
   "metadata": {},
   "outputs": [],
   "source": [
    "# Lecture du fichier *.txt\n",
    "data = pd.read_csv('fredmq.txt', sep=',').set_index(keys='Date')\n",
    "# Récupération des types de transformations dans un dictionnaire\n",
    "transformations = dict(data.loc['Transform']) \n",
    "# Abandon de la ligne des transformations\n",
    "data.drop(labels='Transform', inplace=True)\n",
    "# Ajustement de l'indice du DataFrame au format datetime\n",
    "data.index = pd.to_datetime(arg=data.index)\n",
    "# Abandon des colonnes ayant un nombre de NaN's >= 30\n",
    "data.dropna(thresh=len(data) - 30, axis=1, inplace=True)\n",
    "# Abandon des NaN's restants\n",
    "data.dropna(axis=0, inplace=True)"
   ]
  }
 ],
 "metadata": {
  "kernelspec": {
   "display_name": "Python 3",
   "language": "python",
   "name": "python3"
  },
  "language_info": {
   "codemirror_mode": {
    "name": "ipython",
    "version": 3
   },
   "file_extension": ".py",
   "mimetype": "text/x-python",
   "name": "python",
   "nbconvert_exporter": "python",
   "pygments_lexer": "ipython3",
   "version": "3.11.5"
  }
 },
 "nbformat": 4,
 "nbformat_minor": 2
}
