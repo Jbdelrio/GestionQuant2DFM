{
 "cells": [
  {
   "cell_type": "code",
   "execution_count": 1,
   "metadata": {},
   "outputs": [],
   "source": [
    "import pandas as pd\n",
    "import numpy as np"
   ]
  },
  {
   "cell_type": "code",
   "execution_count": 2,
   "metadata": {},
   "outputs": [],
   "source": [
    "# Lecture du fichier *.txt\n",
    "data = pd.read_csv('fredmq.txt', sep=',').set_index(keys='Date')\n",
    "# Récupération des types de transformations dans un dictionnaire\n",
    "transformations = dict(data.loc['Transform']) \n",
    "# Abandon de la ligne des transformations\n",
    "data.drop(labels='Transform', inplace=True)\n",
    "# Ajustement de l'indice du DataFrame au format datetime\n",
    "data.index = pd.to_datetime(arg=data.index)\n",
    "# Abandon des colonnes ayant un nombre de NaN's >= 30\n",
    "data.dropna(thresh=len(data) - 30, axis=1, inplace=True)\n",
    "# Abandon des NaN's restants\n",
    "data.dropna(axis=0, inplace=True)"
   ]
  },
  {
   "cell_type": "code",
   "execution_count": 3,
   "metadata": {},
   "outputs": [],
   "source": [
    "# Création du DataFrame stockant les séries transformées\n",
    "transformed_data = pd.DataFrame()\n",
    "# Transformation des séries selon les codes fournis par McCracken et Ng\n",
    "for col in data.columns:\n",
    "    # Récupération du code de transformation\n",
    "    code = transformations[col]\n",
    "    # Récupération de la série individuelle\n",
    "    subset = data[col]\n",
    "    # Application des transformées selon le code correspondant\n",
    "    if code == 1:\n",
    "        # Aucune transformation à appliquer\n",
    "        temp = subset\n",
    "    elif code == 2:\n",
    "        # Différence première\n",
    "        temp = subset.diff(periods=1)\n",
    "    elif code == 3:\n",
    "        # Différence seconde \n",
    "        temp = subset.diff(periods=1).diff(periods=1)\n",
    "    elif code == 4:\n",
    "        # Transformée en log\n",
    "        temp = np.log(subset)\n",
    "    elif code == 5:\n",
    "        # Différence première du log\n",
    "        temp = np.log(subset).diff(periods=1)\n",
    "    elif code == 6:\n",
    "        # Différence seconde du log \n",
    "        temp = np.log(subset).diff(periods=1).diff(periods=1)\n",
    "    elif code == 7:\n",
    "        # Différence première de la variation relative\n",
    "        temp = subset.pct_change().diff(periods=1)\n",
    "    # Aggrégation des séries transformées\n",
    "    transformed_data = pd.concat([transformed_data, temp], axis=1)"
   ]
  }
 ],
 "metadata": {
  "kernelspec": {
   "display_name": "Python 3",
   "language": "python",
   "name": "python3"
  },
  "language_info": {
   "codemirror_mode": {
    "name": "ipython",
    "version": 3
   },
   "file_extension": ".py",
   "mimetype": "text/x-python",
   "name": "python",
   "nbconvert_exporter": "python",
   "pygments_lexer": "ipython3",
   "version": "3.11.5"
  }
 },
 "nbformat": 4,
 "nbformat_minor": 2
}
